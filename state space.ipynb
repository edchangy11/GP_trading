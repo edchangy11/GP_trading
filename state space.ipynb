{
 "cells": [
  {
   "cell_type": "code",
   "execution_count": 209,
   "metadata": {},
   "outputs": [],
   "source": [
    "import numpy as np\n",
    "import random\n",
    "import pandas as pd\n",
    "import math\n",
    "from scipy.linalg import expm\n",
    "seed = 42\n",
    "random.seed(seed)\n",
    "np.random.seed(seed)\n",
    "import matplotlib.pyplot as plt\n",
    "import seaborn as sns\n",
    "import scipy"
   ]
  },
  {
   "cell_type": "code",
   "execution_count": 210,
   "metadata": {},
   "outputs": [],
   "source": [
    "def cov_md(t1, t2, sigma2):\n",
    "    dk = lambda r,p : (1+np.sqrt(3)*abs(r)/p[1])*np.exp(-np.sqrt(3)*abs(r)/p[1])\n",
    "    K = np.zeros([len(t1), len(t2)])\n",
    "    for i in range(len(t1)):\n",
    "        for j in range(len(t2)):\n",
    "            r = abs(t1[i] - t2[j])\n",
    "            K[i,j] =  dk(r,sigma2) \n",
    "    return K"
   ]
  },
  {
   "cell_type": "code",
   "execution_count": 211,
   "metadata": {},
   "outputs": [],
   "source": [
    "# matern 3/2 Covariance matrix\n",
    "def cov_m(t1, t2, l):\n",
    "\n",
    "    K = np.zeros([len(t1), len(t2)])\n",
    "    for i in range(len(t1)):\n",
    "        for j in range(len(t2)):\n",
    "            r = abs(t1[i] - t2[j])\n",
    "            K[i,j]=  (1 + np.sqrt(3)*r/l)* np.exp((-np.sqrt(3)) * r / l)\n",
    "    return K"
   ]
  },
  {
   "cell_type": "code",
   "execution_count": 212,
   "metadata": {},
   "outputs": [],
   "source": [
    "# Kalman filter and smoother for state space posterior calc\n",
    "def kalmanSmoother(A,Q,H,P,vary,y):\n",
    "    T = len(y)\n",
    "    s_ = np.full([T,1], np.nan)\n",
    "    v_ = np.full([T,1], np.nan)\n",
    "    a = np.full([T,1], np.nan)\n",
    "    Y = np.reshape(y,(1,1,T))\n",
    "    lik=0\n",
    "    #if len(vary) == 1:\n",
    "        #vary = vary * np.ones(T,1)\n",
    "    if vary == 1:\n",
    "        vary = vary * np.ones((T,1))\n",
    "        \n",
    "    \n",
    "    \n",
    "    m = np.zeros((A.shape[0],1))\n",
    "    MS = np.zeros((m.shape[0],Y.shape[2]))\n",
    "\n",
    "    PS = np.zeros((m.shape[0],m.shape[0],Y.shape[2]))\n",
    "    Pfin = np.zeros((Y.shape[2],np.sum(H)))\n",
    "    \n",
    "    ### Forward filter\n",
    "    for k in range(T):\n",
    "        \n",
    "        R = vary[k]\n",
    "        # Prediction\n",
    "        if k>0:\n",
    "\n",
    "            m = A.dot(m)\n",
    "\n",
    "            P = (A.dot(P)).dot(A.T) + Q\n",
    "         \n",
    "        #Kalman update\n",
    "        if Y[:,:,k] is not np.nan:\n",
    "\n",
    "            S = (H.dot(P)).dot(H.T) + R\n",
    "            \n",
    "\n",
    "            s_[k] = S\n",
    "            \n",
    "            K = P.dot(H.T)/S\n",
    "\n",
    "            v = Y[:,:,k]-H.dot(m) \n",
    "            v_[k] = v\n",
    "            a[k] = v/S\n",
    "\n",
    "            m = m + K*v\n",
    "\n",
    "            P = P - (K.dot(H)).dot(P)\n",
    "\n",
    "         # Evaluate the energy (neg. log lik): Check this\n",
    "            lik = lik + 0.5*S.shape[0]*np.log(2*math.pi) + 0.5*np.log(S) + 0.5*(v.dot(v))/S\n",
    "            \n",
    "        \n",
    "        \n",
    "        PS[:,:,k] = P\n",
    "\n",
    "\n",
    "        for i in range(len(MS[:,k])):\n",
    "            MS[i,k]   = m[i]\n",
    "            \n",
    "    \n",
    "    # ### Backward smoother\n",
    "    for k in range(MS.shape[1]-1,1,-1):\n",
    "        \n",
    "        # Smoothing step (using Cholesky for stability)\n",
    "        PSk = PS[:,:,k]\n",
    "        # Pseudo-prediction\n",
    "        PSkp = (A.dot(PSk)).dot(A.T)+ Q\n",
    "\n",
    "        L= np.linalg.cholesky(PSkp)# Solve the Cholesky factorization\n",
    "        # Continue smoothing step\n",
    "        G = (PSk.dot(A.T)).dot(np.linalg.inv(L.T)).dot(np.linalg.inv(L))\n",
    "        # Do update\n",
    "        m = MS[:,k] + G.dot((m-A.dot(MS[:,k])))\n",
    "        P = PSk + (G.dot(P-PSkp)).dot(G.T)\n",
    "\n",
    "       \n",
    "        PS[:,:,k] = P\n",
    "\n",
    "        Pfin[k,:] = P[1,1]\n",
    "\n",
    "    lik = -lik\n",
    "    \n",
    "    Xfin = MS.reshape(1,MS.shape[0],MS.shape[1])\n",
    "    #print(Xfin.shape)\n",
    "    Xfin = np.squeeze(Xfin).T\n",
    "\n",
    "    return lik, Xfin, Pfin, s_, v_, a"
   ]
  },
  {
   "cell_type": "code",
   "execution_count": 213,
   "metadata": {},
   "outputs": [],
   "source": [
    "# Need to add derivatives for both the Gram method and also the \n",
    "var_y = 1\n",
    "x = np.linspace(1, 50, 50).astype(int)\n",
    "test_loc  = range(25,30)\n",
    "train_loc = range(50)\n",
    "N = len(x[train_loc])\n",
    "l = 1"
   ]
  },
  {
   "cell_type": "code",
   "execution_count": 214,
   "metadata": {
    "scrolled": true
   },
   "outputs": [],
   "source": [
    "K_s = cov_m(x[train_loc],x[train_loc],l)\n",
    "\n",
    "K = K_s + var_y*np.eye(N)"
   ]
  },
  {
   "cell_type": "code",
   "execution_count": 215,
   "metadata": {},
   "outputs": [],
   "source": [
    "mu = np.zeros(N)\n",
    "y = np.random.multivariate_normal(mu, K).T\n",
    "\n",
    "Ntest = len(test_loc)\n",
    "K_K_star = cov_m(x[train_loc],x[test_loc],l)\n",
    "K_star_star = cov_m(x[test_loc],x[test_loc],l)\n",
    "L = scipy.linalg.cholesky(K)\n",
    "\n",
    "alpha = np.linalg.inv(L.T).dot(np.linalg.inv(L).dot(y))"
   ]
  },
  {
   "cell_type": "code",
   "execution_count": 216,
   "metadata": {},
   "outputs": [],
   "source": [
    "f_star = K_K_star.T.dot(alpha)\n",
    "v = np.linalg.inv(L).dot(K_K_star)\n",
    "\n",
    "v_star = K_star_star - v.T.dot(v)\n",
    "\n",
    "log_p_y = - 0.5*y.T.dot(alpha) - np.sum(np.log(np.diag(L))) - (N/2)*np.log(2*math.pi)\n",
    "\n",
    "f_inv = (K_K_star.T.dot(np.linalg.inv(K))).dot(y)\n",
    "\n",
    "cov_inv = K_star_star - (K_K_star.T.dot(np.linalg.inv(K))).dot(K_K_star)\n",
    "\n",
    "log_p_2 = (-0.5*y.T.dot(np.linalg.inv(K))).dot(y) - 0.5*np.log(np.linalg.det(K)) - N/2*np.log(2*math.pi)\n"
   ]
  },
  {
   "cell_type": "code",
   "execution_count": 217,
   "metadata": {
    "scrolled": true
   },
   "outputs": [],
   "source": [
    "A_ = np.array([[0,1],[-(np.sqrt(3)/l)**2,2*(-np.sqrt(3))/l]])\n",
    "A = expm(A_)\n",
    "H = np.array([[1,0]])\n",
    "P = np.array([[1,0],[0,3/l**2]])\n",
    "Q = P - A.dot(P).dot(A.T)"
   ]
  },
  {
   "cell_type": "code",
   "execution_count": 218,
   "metadata": {
    "scrolled": false
   },
   "outputs": [],
   "source": [
    "y_kf = np.NaN*x\n",
    "y_kf[train_loc] = y\n",
    "log_lik_ss,post_mean_ss_,post_cov_ss_,s,v,a = kalmanSmoother(A,Q,H,P,var_y,y_kf)\n"
   ]
  },
  {
   "cell_type": "code",
   "execution_count": 223,
   "metadata": {
    "scrolled": false
   },
   "outputs": [
    {
     "name": "stdout",
     "output_type": "stream",
     "text": [
      "The log likelihood for state space is \n",
      " [[-84.42590772]]\n",
      "The log likelihood for chol is \n",
      " -84.42997041666757\n",
      "The log likelihood for inv is \n",
      " -84.4259077153522\n"
     ]
    }
   ],
   "source": [
    "print('The log likelihood for state space is \\n',log_lik_ss)\n",
    "print('The log likelihood for chol is \\n',log_p_y)\n",
    "print('The log likelihood for inv is \\n',log_p_2)"
   ]
  },
  {
   "cell_type": "code",
   "execution_count": 224,
   "metadata": {
    "scrolled": true
   },
   "outputs": [],
   "source": [
    "param = np.array([0.6,1])\n",
    "K_u= cov_md(x[train_loc],x[train_loc],param)\n",
    "alpha = np.linalg.inv(K).dot(y).reshape(alpha.shape[0],1)\n",
    "alpha_= alpha.dot(alpha.T) - np.linalg.inv(K)\n",
    "score = 0.5*np.trace(alpha_.dot(K_u))\n"
   ]
  },
  {
   "cell_type": "code",
   "execution_count": 225,
   "metadata": {},
   "outputs": [],
   "source": [
    "invK = np.linalg.inv(L.T).dot(np.linalg.inv(L).dot(np.eye(N)))\n",
    "eg = 0.5*np.trace(invK) - 0.5*(alpha.T.dot(alpha))"
   ]
  }
 ],
 "metadata": {
  "kernelspec": {
   "display_name": "Python 3",
   "language": "python",
   "name": "python3"
  },
  "language_info": {
   "codemirror_mode": {
    "name": "ipython",
    "version": 3
   },
   "file_extension": ".py",
   "mimetype": "text/x-python",
   "name": "python",
   "nbconvert_exporter": "python",
   "pygments_lexer": "ipython3",
   "version": "3.7.4"
  }
 },
 "nbformat": 4,
 "nbformat_minor": 2
}
