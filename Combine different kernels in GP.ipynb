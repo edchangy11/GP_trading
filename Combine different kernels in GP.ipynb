{
 "cells": [
  {
   "cell_type": "code",
   "execution_count": 1,
   "metadata": {},
   "outputs": [],
   "source": [
    "%matplotlib inline\n",
    "import numpy as np\n",
    "import matplotlib.pyplot as plt\n",
    "import os"
   ]
  },
  {
   "cell_type": "code",
   "execution_count": 2,
   "metadata": {},
   "outputs": [],
   "source": [
    "def plot_fit(x,y,mu,var, m_y='k-o', m_mu='b-<', l_y='true', l_mu='predicted', legend=True, title='',output_path=None,img_id=None):\n",
    "    \"\"\"\n",
    "    Plot the fit of a GP\n",
    "    \"\"\"\n",
    "    fig=plt.figure(figsize=[7,5])\n",
    "    if y is not None:\n",
    "        plt.plot(x,y, m_y, label=l_y)\n",
    "\n",
    "    plt.plot(x,mu, m_mu, label=l_mu)\n",
    "    vv = 2*np.sqrt(var)\n",
    "    plt.fill_between(x[:,0], (mu-vv)[:,0], (mu+vv)[:,0], alpha=0.2, edgecolor='gray', facecolor='cyan')\n",
    "    if legend:\n",
    "        plt.legend()\n",
    "    if title != '':\n",
    "        plt.title(title)\n",
    "    fig.savefig(output_path+img_id+'.png')"
   ]
  },
  {
   "cell_type": "code",
   "execution_count": 3,
   "metadata": {},
   "outputs": [],
   "source": [
    "import datetime as dt\n",
    "import numpy as np\n",
    "import pandas as pd\n",
    "import fxcmpy\n",
    "from fxcmpy import fxcmpy_tick_data_reader as tdr\n",
    "import tables as tb\n",
    "period='m1'\n",
    "#TOKEN = '71ec67818275600cfcb24e9103f517665a313d08'\n",
    "TOKEN = '5d932c9a5d3a05506ffbad22b616bb18453dbadf'\n",
    "con = fxcmpy.fxcmpy(access_token=TOKEN, log_level='error')\n",
    "#con = fxcmpy.fxcmpy(config_file='fxcm.cfg', server='demo')\n",
    "#print(con.get_instruments())\n",
    "data = con.get_candles('EUR/USD', period='D1',number=100)\n",
    "\n",
    "\n",
    "#start = dt.datetime(2017, 1, 2)\n",
    "#end = dt.datetime(2017, 1, 3)\n",
    "#data = tdr('AUDCAD', start, end, verbosity=True)"
   ]
  },
  {
   "cell_type": "code",
   "execution_count": 4,
   "metadata": {},
   "outputs": [
    {
     "data": {
      "text/html": [
       "<div>\n",
       "<style scoped>\n",
       "    .dataframe tbody tr th:only-of-type {\n",
       "        vertical-align: middle;\n",
       "    }\n",
       "\n",
       "    .dataframe tbody tr th {\n",
       "        vertical-align: top;\n",
       "    }\n",
       "\n",
       "    .dataframe thead th {\n",
       "        text-align: right;\n",
       "    }\n",
       "</style>\n",
       "<table border=\"1\" class=\"dataframe\">\n",
       "  <thead>\n",
       "    <tr style=\"text-align: right;\">\n",
       "      <th></th>\n",
       "      <th>bidopen</th>\n",
       "      <th>bidclose</th>\n",
       "      <th>bidhigh</th>\n",
       "      <th>bidlow</th>\n",
       "      <th>askopen</th>\n",
       "      <th>askclose</th>\n",
       "      <th>askhigh</th>\n",
       "      <th>asklow</th>\n",
       "      <th>tickqty</th>\n",
       "    </tr>\n",
       "    <tr>\n",
       "      <th>date</th>\n",
       "      <th></th>\n",
       "      <th></th>\n",
       "      <th></th>\n",
       "      <th></th>\n",
       "      <th></th>\n",
       "      <th></th>\n",
       "      <th></th>\n",
       "      <th></th>\n",
       "      <th></th>\n",
       "    </tr>\n",
       "  </thead>\n",
       "  <tbody>\n",
       "    <tr>\n",
       "      <th>2019-07-25 21:00:00</th>\n",
       "      <td>1.11394</td>\n",
       "      <td>1.11461</td>\n",
       "      <td>1.11871</td>\n",
       "      <td>1.11007</td>\n",
       "      <td>1.11409</td>\n",
       "      <td>1.11480</td>\n",
       "      <td>1.11883</td>\n",
       "      <td>1.11019</td>\n",
       "      <td>257037</td>\n",
       "    </tr>\n",
       "    <tr>\n",
       "      <th>2019-07-26 21:00:00</th>\n",
       "      <td>1.11461</td>\n",
       "      <td>1.11239</td>\n",
       "      <td>1.11505</td>\n",
       "      <td>1.11114</td>\n",
       "      <td>1.11480</td>\n",
       "      <td>1.11299</td>\n",
       "      <td>1.11517</td>\n",
       "      <td>1.11126</td>\n",
       "      <td>132825</td>\n",
       "    </tr>\n",
       "    <tr>\n",
       "      <th>2019-07-28 21:00:00</th>\n",
       "      <td>1.11239</td>\n",
       "      <td>1.11234</td>\n",
       "      <td>1.11299</td>\n",
       "      <td>1.11192</td>\n",
       "      <td>1.11299</td>\n",
       "      <td>1.11285</td>\n",
       "      <td>1.11335</td>\n",
       "      <td>1.11262</td>\n",
       "      <td>250</td>\n",
       "    </tr>\n",
       "    <tr>\n",
       "      <th>2019-07-29 21:00:00</th>\n",
       "      <td>1.11234</td>\n",
       "      <td>1.11440</td>\n",
       "      <td>1.11504</td>\n",
       "      <td>1.11123</td>\n",
       "      <td>1.11285</td>\n",
       "      <td>1.11454</td>\n",
       "      <td>1.11515</td>\n",
       "      <td>1.11136</td>\n",
       "      <td>117234</td>\n",
       "    </tr>\n",
       "    <tr>\n",
       "      <th>2019-07-30 21:00:00</th>\n",
       "      <td>1.11440</td>\n",
       "      <td>1.11540</td>\n",
       "      <td>1.11604</td>\n",
       "      <td>1.11314</td>\n",
       "      <td>1.11454</td>\n",
       "      <td>1.11557</td>\n",
       "      <td>1.11618</td>\n",
       "      <td>1.11326</td>\n",
       "      <td>148994</td>\n",
       "    </tr>\n",
       "  </tbody>\n",
       "</table>\n",
       "</div>"
      ],
      "text/plain": [
       "                     bidopen  bidclose  bidhigh   bidlow  askopen  askclose  \\\n",
       "date                                                                          \n",
       "2019-07-25 21:00:00  1.11394   1.11461  1.11871  1.11007  1.11409   1.11480   \n",
       "2019-07-26 21:00:00  1.11461   1.11239  1.11505  1.11114  1.11480   1.11299   \n",
       "2019-07-28 21:00:00  1.11239   1.11234  1.11299  1.11192  1.11299   1.11285   \n",
       "2019-07-29 21:00:00  1.11234   1.11440  1.11504  1.11123  1.11285   1.11454   \n",
       "2019-07-30 21:00:00  1.11440   1.11540  1.11604  1.11314  1.11454   1.11557   \n",
       "\n",
       "                     askhigh   asklow  tickqty  \n",
       "date                                            \n",
       "2019-07-25 21:00:00  1.11883  1.11019   257037  \n",
       "2019-07-26 21:00:00  1.11517  1.11126   132825  \n",
       "2019-07-28 21:00:00  1.11335  1.11262      250  \n",
       "2019-07-29 21:00:00  1.11515  1.11136   117234  \n",
       "2019-07-30 21:00:00  1.11618  1.11326   148994  "
      ]
     },
     "execution_count": 4,
     "metadata": {},
     "output_type": "execute_result"
    }
   ],
   "source": [
    "data.head()"
   ]
  },
  {
   "cell_type": "code",
   "execution_count": 5,
   "metadata": {},
   "outputs": [
    {
     "data": {
      "text/plain": [
       "[<matplotlib.lines.Line2D at 0x11c31e978>]"
      ]
     },
     "execution_count": 5,
     "metadata": {},
     "output_type": "execute_result"
    },
    {
     "data": {
      "image/png": "[encoded data removed]",
      "text/plain": [
       "<Figure size 432x288 with 1 Axes>"
      ]
     },
     "metadata": {},
     "output_type": "display_data"
    }
   ],
   "source": [
    "#\n",
    "plt.plot(data['bidopen'])"
   ]
  },
  {
   "cell_type": "code",
   "execution_count": 6,
   "metadata": {},
   "outputs": [
    {
     "data": {
      "text/plain": [
       "(100,)"
      ]
     },
     "execution_count": 6,
     "metadata": {},
     "output_type": "execute_result"
    }
   ],
   "source": [
    "data['bidopen'].shape"
   ]
  },
  {
   "cell_type": "code",
   "execution_count": 7,
   "metadata": {},
   "outputs": [],
   "source": [
    "ytr=np.array(data['bidopen'])\n",
    "length=ytr.shape[0]\n",
    "length_test=10\n",
    "length_train=length-length_test\n",
    "xtr=np.linspace(1,length,num=length)[:,None]\n",
    "ytr=ytr[:,None]\n",
    "ytr_train=ytr[0:length_train,:]\n",
    "xtr_train=xtr[0:length_train,:]\n",
    "ytr_test=ytr[(length_train):,:]\n",
    "xtr_test=xtr[(length_train):,:]"
   ]
  },
  {
   "cell_type": "code",
   "execution_count": 8,
   "metadata": {},
   "outputs": [
    {
     "data": {
      "text/plain": [
       "(10, 1)"
      ]
     },
     "execution_count": 8,
     "metadata": {},
     "output_type": "execute_result"
    }
   ],
   "source": [
    "#ytr_train.shape\n",
    "xtr_train.shape\n",
    "xtr_test.shape"
   ]
  },
  {
   "cell_type": "code",
   "execution_count": 9,
   "metadata": {},
   "outputs": [],
   "source": [
    "import GPy\n",
    "Q = xtr_train.shape[1]\n",
    "#k = RationalQuadratic(Q)\n",
    "k1=GPy.kern.StdPeriodic(Q)\n",
    "k2=GPy.kern.RBF(Q)\n",
    "k3=GPy.kern.Linear(Q)\n",
    "k4=GPy.kern.Poly(Q)"
   ]
  },
  {
   "cell_type": "markdown",
   "metadata": {},
   "source": [
    "# Combining Polynomial kernal and periodic kernal"
   ]
  },
  {
   "cell_type": "markdown",
   "metadata": {},
   "source": [
    "Polynomial kernal:\n",
    "    $$k(x,y)=(x^T*y+c)^d$$\n",
    "\n",
    "\n",
    "Periodic kernal:\n",
    "    k(x,y) = $$\\theta_1 \\exp \\left[  - \\frac{1}{2} \\sum_{i=1}^{input\\_dim}\n",
    "       \\left( \\frac{\\sin(\\frac{\\pi}{T_i} (x_i - y_i) )}{l_i} \\right)^2 \\right]$$"
   ]
  },
  {
   "cell_type": "code",
   "execution_count": null,
   "metadata": {},
   "outputs": [
    {
     "name": "stdout",
     "output_type": "stream",
     "text": [
      "Optimization restart 1/50, f = -279.2757381274058\n",
      "Optimization restart 2/50, f = -299.77839453326817\n",
      "Optimization restart 3/50, f = -283.80923945798645\n",
      "Optimization restart 4/50, f = -380.50558469916325\n"
     ]
    },
    {
     "name": "stderr",
     "output_type": "stream",
     "text": [
      " /anaconda3/lib/python3.6/site-packages/GPy/kern/src/standard_periodic.py:131: RuntimeWarning:overflow encountered in true_divide\n",
      " /anaconda3/lib/python3.6/site-packages/GPy/kern/src/standard_periodic.py:132: RuntimeWarning:invalid value encountered in sin\n",
      " /anaconda3/lib/python3.6/site-packages/GPy/kern/src/standard_periodic.py:153: RuntimeWarning:overflow encountered in true_divide\n",
      " /anaconda3/lib/python3.6/site-packages/numpy/core/fromnumeric.py:86: RuntimeWarning:invalid value encountered in reduce\n"
     ]
    },
    {
     "name": "stdout",
     "output_type": "stream",
     "text": [
      "Optimization restart 5/50, f = -303.0138589703346\n",
      "Optimization restart 6/50, f = -205.58082881906245\n",
      "Optimization restart 7/50, f = -332.70328580237305\n",
      "Optimization restart 8/50, f = -322.56936042722725\n"
     ]
    }
   ],
   "source": [
    "k=k1+k4 #polynomial kernal and periodic kernal\n",
    "m = GPy.models.GPRegression(X=xtr_train, Y=ytr_train, kernel=k)\n",
    "m.plot() #before optimization\n",
    "m.optimize(messages=False)\n",
    "m.optimize_restarts(num_restarts = 50, messages=False)\n",
    "display(m)"
   ]
  },
  {
   "cell_type": "code",
   "execution_count": null,
   "metadata": {},
   "outputs": [],
   "source": []
  },
  {
   "cell_type": "code",
   "execution_count": null,
   "metadata": {
    "scrolled": true
   },
   "outputs": [],
   "source": [
    "m.plot()"
   ]
  },
  {
   "cell_type": "code",
   "execution_count": null,
   "metadata": {},
   "outputs": [],
   "source": [
    "output_path='./report/'+period+'/'\n",
    "if not os.path.exists(output_path):\n",
    "    os.makedirs(output_path)\n",
    "img_id='polynomial+periodical_whole'\n",
    "X_star=xtr_train\n",
    "Y_star=ytr_train\n",
    "mu,var = m.predict(xtr)\n",
    "plot_fit(xtr, ytr, mu, var,output_path=output_path,img_id=img_id)"
   ]
  },
  {
   "cell_type": "code",
   "execution_count": null,
   "metadata": {},
   "outputs": [],
   "source": [
    "print(m)\n",
    "X_star=xtr_train\n",
    "Y_star=ytr_train\n",
    "mu,var = m.predict(xtr)\n",
    "img_id='polynomial+periodical_prediction'\n",
    "plot_fit(xtr[80:,:], ytr[80:,:], mu[80:,:], var[80:,:],output_path=output_path,img_id=img_id)"
   ]
  },
  {
   "cell_type": "code",
   "execution_count": null,
   "metadata": {},
   "outputs": [],
   "source": [
    "def RMSE(model, xpred, ypred):\n",
    "    mu, V = model.predict(xpred)\n",
    "    Sqerr = np.power(ypred - mu,2)\n",
    "    MSE = np.sum(Sqerr)\n",
    "    rmse = np.sqrt(MSE/ypred.size)\n",
    "    print ('RMSE = ' +str(rmse))\n",
    "    print ('Log likelihood is ' + str(model.log_likelihood()))\n",
    "    return rmse\n",
    "RMSE(m,xtr_test,ytr_test)\n"
   ]
  },
  {
   "cell_type": "code",
   "execution_count": null,
   "metadata": {},
   "outputs": [],
   "source": [
    "mu,v=m.predict(xtr_test)\n",
    "np.sqrt(np.power(ytr_test[0]-mu[0],2))"
   ]
  },
  {
   "cell_type": "code",
   "execution_count": null,
   "metadata": {},
   "outputs": [],
   "source": [
    "#X_extrap=np.linspace(0,200,200)[:,None]\n",
    "#mu,var = m.predict(X_extrap)\n",
    "#plot_fit(X_extrap, None, mu, var)\n"
   ]
  },
  {
   "cell_type": "markdown",
   "metadata": {},
   "source": [
    "# RBF Kernal\n"
   ]
  },
  {
   "cell_type": "markdown",
   "metadata": {},
   "source": [
    "$$k(r) = \\sigma^2 \\exp \\bigg(- \\frac{1}{2} r^2 \\bigg)$$"
   ]
  },
  {
   "cell_type": "code",
   "execution_count": null,
   "metadata": {
    "scrolled": true
   },
   "outputs": [],
   "source": [
    "k=k2\n",
    "m = GPy.models.GPRegression(X=X_star, Y=Y_star, kernel=k)\n",
    "m.plot() #before optimization\n",
    "m.optimize(messages=False)\n",
    "m.optimize_restarts(num_restarts = 50, messages=False)\n",
    "display(m)\n",
    "m.plot() #after optimization"
   ]
  },
  {
   "cell_type": "code",
   "execution_count": null,
   "metadata": {},
   "outputs": [],
   "source": [
    "print(m)\n",
    "mu,var = m.predict(xtr)\n",
    "\n",
    "img_id='RBF_whole'\n",
    "\n",
    "plot_fit(xtr, ytr, mu, var,output_path=output_path,img_id=img_id)"
   ]
  },
  {
   "cell_type": "code",
   "execution_count": null,
   "metadata": {},
   "outputs": [],
   "source": [
    "print(m)\n",
    "X_star=xtr_train\n",
    "Y_star=ytr_train\n",
    "mu,var = m.predict(xtr)\n",
    "img_id='RBF_prediction'\n",
    "\n",
    "plot_fit(xtr[80:,:], ytr[80:,:], mu[80:,:], var[80:,:],output_path=output_path,img_id=img_id)"
   ]
  },
  {
   "cell_type": "code",
   "execution_count": null,
   "metadata": {},
   "outputs": [],
   "source": [
    "#X_extrap=np.linspace(1,200,200)[:,None]\n",
    "#mu,var = m.predict(X_extrap)\n",
    "#plot_fit(X_extrap, None, mu, var)"
   ]
  },
  {
   "cell_type": "code",
   "execution_count": null,
   "metadata": {},
   "outputs": [],
   "source": [
    "def RMSE(model, xpred, ypred):\n",
    "    mu, V = model.predict(xpred)\n",
    "    Sqerr = np.power(ypred - mu,2)\n",
    "    MSE = np.sum(Sqerr)\n",
    "    rmse = np.sqrt(MSE/ypred.size)\n",
    "    print ('RMSE = ' +str(rmse))\n",
    "    print ('Log likelihood is ' + str(model.log_likelihood()))\n",
    "    return rmse\n",
    "RMSE(m,xtr_test,ytr_test)\n"
   ]
  },
  {
   "cell_type": "code",
   "execution_count": null,
   "metadata": {},
   "outputs": [],
   "source": [
    "mu,v=m.predict(xtr_test)\n",
    "np.sqrt(np.power(ytr_test[0]-mu[0],2))"
   ]
  },
  {
   "cell_type": "markdown",
   "metadata": {},
   "source": [
    "# Combine RBF kernal and Polynomial kernal"
   ]
  },
  {
   "cell_type": "code",
   "execution_count": null,
   "metadata": {
    "scrolled": false
   },
   "outputs": [],
   "source": [
    "k=k2+k1\n",
    "m = GPy.models.GPRegression(X=X_star, Y=Y_star, kernel=k)\n",
    "m.plot() #before optimization\n",
    "m.optimize(messages=False)\n",
    "m.optimize_restarts(num_restarts = 50, messages=False)\n",
    "display(m)\n",
    "m.plot() #after optimization"
   ]
  },
  {
   "cell_type": "code",
   "execution_count": null,
   "metadata": {},
   "outputs": [],
   "source": [
    "print(m)\n",
    "mu,var = m.predict(xtr)\n",
    "img_id='RBF_periodical_whole'\n",
    "plot_fit(xtr, ytr, mu, var,output_path=output_path,img_id=img_id)"
   ]
  },
  {
   "cell_type": "code",
   "execution_count": null,
   "metadata": {},
   "outputs": [],
   "source": [
    "def RMSE(model, xpred, ypred):\n",
    "    mu, V = model.predict(xpred)\n",
    "    Sqerr = np.power(ypred - mu,2)\n",
    "    MSE = np.sum(Sqerr)\n",
    "    rmse = np.sqrt(MSE/ypred.size)\n",
    "    print ('RMSE = ' +str(rmse))\n",
    "    print ('Log likelihood is ' + str(model.log_likelihood()))\n",
    "    return rmse\n",
    "RMSE(m,xtr_test,ytr_test)"
   ]
  },
  {
   "cell_type": "code",
   "execution_count": null,
   "metadata": {},
   "outputs": [],
   "source": [
    "mu,v=m.predict(xtr_test)\n",
    "np.sqrt(np.power(ytr_test[0]-mu[0],2))"
   ]
  },
  {
   "cell_type": "code",
   "execution_count": null,
   "metadata": {},
   "outputs": [],
   "source": [
    "print(m)\n",
    "X_star=xtr_train\n",
    "Y_star=ytr_train\n",
    "mu,var = m.predict(xtr)\n",
    "img_id='RBF+periodical_prediction'\n",
    "\n",
    "plot_fit(xtr[80:,:], ytr[80:,:], mu[80:,:], var[80:,:],output_path=output_path,img_id=img_id)"
   ]
  },
  {
   "cell_type": "code",
   "execution_count": null,
   "metadata": {},
   "outputs": [],
   "source": [
    "#X_extrap=np.linspace(1,200,200)[:,None]\n",
    "#mu,var = m.predict(X_extrap)\n",
    "#plot_fit(X_extrap, None, mu, var)"
   ]
  },
  {
   "cell_type": "markdown",
   "metadata": {},
   "source": [
    "# Combine linear kernal and periodic kernal"
   ]
  },
  {
   "cell_type": "markdown",
   "metadata": {},
   "source": [
    "The linear kernal is defined as:\n",
    "$$k(x,y) = \\sum_{i=1}^{\\text{input_dim}} \\sigma^2_i x_iy_i$$"
   ]
  },
  {
   "cell_type": "code",
   "execution_count": null,
   "metadata": {},
   "outputs": [],
   "source": [
    "k=k3+k1\n",
    "m = GPy.models.GPRegression(X=X_star, Y=Y_star, kernel=k)\n",
    "m.plot() #before optimization\n",
    "m.optimize(messages=False)\n",
    "m.optimize_restarts(num_restarts = 50, messages=False)\n",
    "display(m)\n",
    "m.plot() #after optimization"
   ]
  },
  {
   "cell_type": "code",
   "execution_count": null,
   "metadata": {},
   "outputs": [],
   "source": [
    "def RMSE(model, xpred, ypred):\n",
    "    mu, V = model.predict(xpred)\n",
    "    Sqerr = np.power(ypred - mu,2)\n",
    "    MSE = np.sum(Sqerr)\n",
    "    rmse = np.sqrt(MSE/ypred.size)\n",
    "    print ('RMSE = ' +str(rmse))\n",
    "    print ('Log likelihood is ' + str(model.log_likelihood()))\n",
    "    return rmse\n",
    "RMSE(m,xtr_test,ytr_test)"
   ]
  },
  {
   "cell_type": "code",
   "execution_count": null,
   "metadata": {},
   "outputs": [],
   "source": [
    "mu,v=m.predict(xtr_test)\n",
    "np.sqrt(np.power(ytr_test[0]-mu[0],2))"
   ]
  },
  {
   "cell_type": "code",
   "execution_count": null,
   "metadata": {},
   "outputs": [],
   "source": [
    "print(m)\n",
    "mu,var = m.predict(xtr)\n",
    "img_id='RBF+periodical_whole'\n",
    "plot_fit(xtr, ytr, mu, var,output_path=output_path,img_id=img_id)"
   ]
  },
  {
   "cell_type": "code",
   "execution_count": null,
   "metadata": {},
   "outputs": [],
   "source": [
    "print(m)\n",
    "X_star=xtr_train\n",
    "Y_star=ytr_train\n",
    "mu,var = m.predict(xtr)\n",
    "img_id='RBF+periodical_prediction'\n",
    "plot_fit(xtr[80:,:], ytr[80:,:], mu[80:,:], var[80:,:],output_path=output_path,img_id=img_id)"
   ]
  },
  {
   "cell_type": "code",
   "execution_count": null,
   "metadata": {},
   "outputs": [],
   "source": [
    "#X_extrap=np.linspace(1,200,200)[:,None]\n",
    "#mu,var = m.predict(X_extrap)\n",
    "#plot_fit(X_extrap, None, mu, var)"
   ]
  },
  {
   "cell_type": "code",
   "execution_count": null,
   "metadata": {},
   "outputs": [],
   "source": []
  }
 ],
 "metadata": {
  "kernelspec": {
   "display_name": "Python 3",
   "language": "python",
   "name": "python3"
  },
  "language_info": {
   "codemirror_mode": {
    "name": "ipython",
    "version": 3
   },
   "file_extension": ".py",
   "mimetype": "text/x-python",
   "name": "python",
   "nbconvert_exporter": "python",
   "pygments_lexer": "ipython3",
   "version": "3.6.8"
  }
 },
 "nbformat": 4,
 "nbformat_minor": 2
}
