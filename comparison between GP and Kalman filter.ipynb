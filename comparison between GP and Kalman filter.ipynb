{
 "cells": [
  {
   "cell_type": "markdown",
   "metadata": {},
   "source": [
    "## comparison between GP and Kalman filter\n",
    "In this notebook we compared various performance of GP and kalman filter with martern32 kernel on the same trading dataset, using the sliding window method.\n",
    "\n",
    "From the result we can see that kalman filter can run much faster than GP, while keep the performance of mean absolute error and model fitness almost the same.\n",
    "\n",
    "Also, we implemented the online predict with GP, and it worked quite well.\n",
    "\n",
    "### To do: \n",
    "Use other kernels like **spectral mixture kernel**,  or design our own kernel.\n",
    "Maybe try multiple outputs."
   ]
  },
  {
   "cell_type": "code",
   "execution_count": 1,
   "metadata": {},
   "outputs": [],
   "source": [
    "import numpy as np\n",
    "import pandas as pd\n",
    "import datetime\n",
    "import time\n",
    "import matplotlib.pyplot as plt\n",
    "import seaborn as sns\n",
    "from collections import deque\n",
    "import GPy\n",
    "from scipy.linalg import expm\n",
    "import math\n",
    "import scipy\n",
    "from GPy.kern.src.sde_matern import Matern32"
   ]
  },
  {
   "cell_type": "code",
   "execution_count": 2,
   "metadata": {},
   "outputs": [],
   "source": [
    "def plot_fit(x,y,mu,var, m_y='k-o', m_mu='b-<', l_y='true', l_mu='predicted', legend=True, title=''):\n",
    "    \"\"\"\n",
    "    Plot the fit of a GP\n",
    "    \"\"\"\n",
    "    if y is not None:\n",
    "        plt.plot(x,y, m_y, label=l_y)\n",
    "    plt.plot(x,mu, m_mu, label=l_mu)\n",
    "    vv = 2*np.sqrt(var)\n",
    "    plt.fill_between(x[:,0], (mu-vv)[:,0], (mu+vv)[:,0], alpha=0.2, edgecolor='gray', facecolor='cyan')\n",
    "    if legend:\n",
    "        plt.legend()\n",
    "    if title != '':\n",
    "        plt.title(title)"
   ]
  },
  {
   "cell_type": "code",
   "execution_count": 3,
   "metadata": {},
   "outputs": [],
   "source": [
    "def plot_KF(x, y, predictions, var):\n",
    "   # show_loc=np.linspace(98,100,5).astype(int)\n",
    "    fig, ax = plt.subplots(1, 1)\n",
    "\n",
    "    mu = predictions\n",
    "    ax.plot(x,y,label=\"measurement\",marker='o')\n",
    "    ax.plot(x,mu,label=\"kalman filter\")\n",
    "    vv = 2*np.sqrt(var).reshape(-1)\n",
    "    ax.fill_between(x.reshape(-1), (mu-vv), (mu+vv), alpha=0.2)\n",
    "    ax.set_title('Kalman filter result', fontsize=14)\n",
    "    ax.legend()\n",
    "    plt.show()"
   ]
  },
  {
   "cell_type": "markdown",
   "metadata": {},
   "source": [
    "## Offline sliding window predict\n",
    "Here we use the downloaded offline dataset and predict the trading value using sliding window method.\n",
    "\n",
    "The sampling frequency is 1 min, which is the smallest frequency that we can get\n",
    "\n",
    "In the following examples, the sliding window step is 1; the training data length is 100, and the predict length is 10"
   ]
  },
  {
   "cell_type": "markdown",
   "metadata": {},
   "source": [
    "### 1. GP offline predict"
   ]
  },
  {
   "cell_type": "code",
   "execution_count": 4,
   "metadata": {},
   "outputs": [],
   "source": [
    "def GP_predict_offline(x, y, ker, train_len = 100, predict_range = 10,  num_restarts = 1 ):\n",
    "\n",
    "    dqx = deque(x[:train_len], maxlen=train_len)\n",
    "    dqy = deque(y[:train_len], maxlen=train_len)\n",
    "    \n",
    "    predictions = []\n",
    "    var = []\n",
    "    log_likelihood = []\n",
    "    compute_time = []\n",
    "    # sliding window prediction\n",
    "    \n",
    "    for i in range(predict_range):\n",
    "        time_start=datetime.datetime.now()\n",
    "        X_train = np.array(dqx)\n",
    "        y_train = np.array(dqy)\n",
    "\n",
    "        m = GPy.models.GPRegression(X=X_train, Y=y_train, kernel=ker)\n",
    "        m.optimize_restarts(num_restarts = num_restarts, messages=False)\n",
    "\n",
    "        dqx.append(x[train_len + i])\n",
    "        dqy.append(y[train_len + i])\n",
    "        mu, V = m.predict(np.array(dqx))\n",
    "    \n",
    "        predictions.append(mu[-1])# \n",
    "        var.append(V[-1])\n",
    "        log_likelihood.append(m.log_likelihood())\n",
    "        \n",
    "        time_end=datetime.datetime.now()\n",
    "        # milliseconds\n",
    "        diff = (time_end - time_start).microseconds/1000\n",
    "        compute_time.append(diff)\n",
    "        print('computing time is: {} milliseconds'.format(diff))\n",
    "        \n",
    "    plot_fit(x[train_len:train_len+predict_range], y[train_len:train_len+predict_range], predictions, var)\n",
    "    plt.show()  \n",
    "    \n",
    "    print('mean computing time for each step is: {} milliseconds'.format(np.mean(compute_time)))\n",
    "    MAE = np.mean(abs(y[train_len:train_len+predict_range] - predictions)) \n",
    "    print('mean absolute error for the prediction is {}'.format(MAE))\n",
    "    return predictions, var, log_likelihood, compute_time, MAE"
   ]
  },
  {
   "cell_type": "code",
   "execution_count": 5,
   "metadata": {},
   "outputs": [],
   "source": [
    "#per = ['m1','m5','m30','h4']\n",
    "per = 'm1'\n",
    "data = pd.read_csv(per+'.csv')\n",
    "\n",
    "# data type\n",
    "y=data['Open']\n",
    "# reshape\n",
    "y = y[:,None] \n",
    "x = np.array(range(len(y)))[:,None]\n",
    "# kernel\n",
    "# ker = GPy.kern.RBF(1)\n",
    "ker = Matern32(1)"
   ]
  },
  {
   "cell_type": "code",
   "execution_count": 6,
   "metadata": {},
   "outputs": [
    {
     "data": {
      "image/png": "[encoded data removed]",
      "text/plain": [
       "<Figure size 432x288 with 1 Axes>"
      ]
     },
     "metadata": {
      "needs_background": "light"
     },
     "output_type": "display_data"
    }
   ],
   "source": [
    "plt.plot(x, y)\n",
    "plt.ylabel('value')\n",
    "plt.xlabel('numbers')\n",
    "plt.show()"
   ]
  },
  {
   "cell_type": "code",
   "execution_count": 7,
   "metadata": {
    "scrolled": true
   },
   "outputs": [
    {
     "name": "stderr",
     "output_type": "stream",
     "text": [
      " C:\\Users\\31626\\AppData\\Local\\Continuum\\anaconda3\\lib\\site-packages\\GPy\\kern\\src\\stationary.py:168: RuntimeWarning:overflow encountered in true_divide\n",
      " C:\\Users\\31626\\AppData\\Local\\Continuum\\anaconda3\\lib\\site-packages\\GPy\\kern\\src\\stationary.py:468: RuntimeWarning:overflow encountered in multiply\n",
      " C:\\Users\\31626\\AppData\\Local\\Continuum\\anaconda3\\lib\\site-packages\\GPy\\kern\\src\\stationary.py:468: RuntimeWarning:invalid value encountered in multiply\n"
     ]
    },
    {
     "name": "stdout",
     "output_type": "stream",
     "text": [
      "Optimization restart 1/3, f = -785.1338645129006\n",
      "Optimization restart 2/3, f = -786.2967021223106\n",
      "Optimization restart 3/3, f = -786.2967018696019\n",
      "computing time is: 579.514 milliseconds\n",
      "Optimization restart 1/3, f = -786.8519357249567\n"
     ]
    },
    {
     "name": "stderr",
     "output_type": "stream",
     "text": [
      " C:\\Users\\31626\\AppData\\Local\\Continuum\\anaconda3\\lib\\site-packages\\paramz\\transformations.py:111: RuntimeWarning:overflow encountered in expm1\n"
     ]
    },
    {
     "name": "stdout",
     "output_type": "stream",
     "text": [
      "Optimization restart 2/3, f = -786.8519359029729\n",
      "Optimization restart 3/3, f = -786.8519348743624\n",
      "computing time is: 643.499 milliseconds\n",
      "Optimization restart 1/3, f = -786.7332253309792\n",
      "Optimization restart 2/3, f = -786.7337924595593\n",
      "Optimization restart 3/3, f = -786.733792672582\n",
      "computing time is: 660.663 milliseconds\n",
      "Optimization restart 1/3, f = -787.5705035715177\n",
      "Optimization restart 2/3, f = -784.4359090679269\n",
      "Optimization restart 3/3, f = -787.5754957691818\n",
      "computing time is: 200.676 milliseconds\n",
      "Optimization restart 1/3, f = -788.2212679210758\n",
      "Optimization restart 2/3, f = -788.2212681535792\n",
      "Optimization restart 3/3, f = -788.221268082991\n",
      "computing time is: 783.148 milliseconds\n",
      "Optimization restart 1/3, f = -788.5216930678772\n",
      "Optimization restart 2/3, f = -788.5216973033573\n",
      "Optimization restart 3/3, f = -788.5216969220696\n",
      "computing time is: 726.411 milliseconds\n",
      "Optimization restart 1/3, f = -788.3632263985617\n",
      "Optimization restart 2/3, f = -788.364312300634\n",
      "Optimization restart 3/3, f = -788.3643126987218\n",
      "computing time is: 601.929 milliseconds\n",
      "Optimization restart 1/3, f = -788.3224515878135\n",
      "Optimization restart 2/3, f = -788.3228730940339\n",
      "Optimization restart 3/3, f = -788.3228733332359\n",
      "computing time is: 533.843 milliseconds\n",
      "Optimization restart 1/3, f = -788.4558623015917\n",
      "Optimization restart 2/3, f = -784.2406833537235\n",
      "Optimization restart 3/3, f = -788.4564867120209\n",
      "computing time is: 889.091 milliseconds\n",
      "Optimization restart 1/3, f = -788.4184021486082\n",
      "Optimization restart 2/3, f = -788.4225846682507\n",
      "Optimization restart 3/3, f = -788.4225842952947\n",
      "computing time is: 581.138 milliseconds\n"
     ]
    },
    {
     "data": {
      "image/png": "[encoded data removed]",
      "text/plain": [
       "<Figure size 432x288 with 1 Axes>"
      ]
     },
     "metadata": {
      "needs_background": "light"
     },
     "output_type": "display_data"
    },
    {
     "name": "stdout",
     "output_type": "stream",
     "text": [
      "mean computing time for each step is: 619.9912 milliseconds\n",
      "mean absolute error for the prediction is 5.584468961197242e-05\n"
     ]
    }
   ],
   "source": [
    "# GP offline predict\n",
    "train_len = 100\n",
    "predict_len = 10\n",
    "num_restarts = 3\n",
    "predictions, var, log_likelihood_GP , compute_time_GP, MAE_GP = GP_predict_offline(x,y,ker,train_len = train_len, predict_range = predict_len,  num_restarts = num_restarts)"
   ]
  },
  {
   "cell_type": "markdown",
   "metadata": {},
   "source": [
    "### 2.Kalman filter offline predict"
   ]
  },
  {
   "cell_type": "code",
   "execution_count": 8,
   "metadata": {},
   "outputs": [],
   "source": [
    "# matern 3/2 Covariance matrix\n",
    "def cov_m(t1, t2, l):\n",
    "\n",
    "    K = np.zeros([len(t1), len(t2)])\n",
    "    for i in range(len(t1)):\n",
    "        for j in range(len(t2)): \n",
    "            r = abs(t1[i] - t2[j])\n",
    "            K[i,j]=  (1 + np.sqrt(3)*r/l)* np.exp((-np.sqrt(3)) * r / l)\n",
    "    return K"
   ]
  },
  {
   "cell_type": "code",
   "execution_count": 9,
   "metadata": {},
   "outputs": [],
   "source": [
    "# Kalman filter and smoother for state space posterior calc\n",
    "def kalmanSmoother(A,Q,H,P,vary,y):\n",
    "    T = len(y)\n",
    "    s_ = np.full([T,1], np.nan)\n",
    "    v_ = np.full([T,1], np.nan)\n",
    "    a = np.full([T,1], np.nan)\n",
    "    Y = np.reshape(y,(1,1,T))\n",
    "    lik=0\n",
    "    \n",
    "    vary = vary * np.ones((T,1))\n",
    "    \n",
    "    #if vary == 1:\n",
    "        #vary = vary * np.ones((T,1))\n",
    "        \n",
    "    m = np.zeros((A.shape[0],1))\n",
    "    MS = np.zeros((m.shape[0],Y.shape[2]))\n",
    "    PS = np.zeros((m.shape[0],m.shape[0],Y.shape[2]))\n",
    "    Pfin = np.zeros((Y.shape[2],np.sum(H)))\n",
    "    \n",
    "    ### Forward filter\n",
    "    for k in range(T):\n",
    "        \n",
    "        R = vary[k]\n",
    "        # Prediction\n",
    "        if k>0:\n",
    "\n",
    "            m = A.dot(m)\n",
    "            \n",
    "            P = (A.dot(P)).dot(A.T) + Q\n",
    "         \n",
    "        #Kalman update\n",
    "        if np.isnan(Y[0,0,k])==False:\n",
    "\n",
    "            S = (H.dot(P)).dot(H.T) + R  \n",
    "            s_[k] = S\n",
    "            \n",
    "            K = P.dot(H.T)/S\n",
    "\n",
    "            v = Y[:,:,k]-H.dot(m)\n",
    "\n",
    "\n",
    "            \n",
    "            v_[k] = v\n",
    "            a[k] = v/S\n",
    "\n",
    "            m = m + K*v\n",
    "            \n",
    "            P = P - (K.dot(H)).dot(P)\n",
    "\n",
    "         # Evaluate the energy (neg. log lik): Check this  ???\n",
    "            lik = lik + 0.5*S.shape[0]*np.log(2*math.pi) + 0.5*np.log(S) + 0.5*(v.dot(v))/S\n",
    "            \n",
    "        \n",
    "        \n",
    "        PS[:,:,k] = P\n",
    "        MS[:,k]=np.reshape(m,-1)\n",
    "        Pfin[k,:] = P[0,0]\n",
    "\n",
    "    # ### Backward smoother\n",
    "    for k in range(MS.shape[1]-1,1,-1):\n",
    "        \n",
    "        # Smoothing step (using Cholesky for stability)\n",
    "        PSk = PS[:,:,k]\n",
    "        # Pseudo-prediction\n",
    "        PSkp = (A.dot(PSk)).dot(A.T)+ Q\n",
    "\n",
    "        L= np.linalg.cholesky(PSkp)# Solve the Cholesky factorization\n",
    "        # Continue smoothing step\n",
    "        G = (PSk.dot(A.T)).dot(np.linalg.inv(L.T)).dot(np.linalg.inv(L))\n",
    "        # Do update\n",
    "\n",
    "        m = MS[:,k].reshape(MS[:,k].shape[0],1) + G.dot((m-A.dot(MS[:,k].reshape(MS[:,k].shape[0],1))))\n",
    "\n",
    "        P = PSk + (G.dot(P-PSkp)).dot(G.T)\n",
    "\n",
    "        MS[:,k] = m.reshape(1, m.shape[0])\n",
    "        PS[:,:,k] = P\n",
    "        Pfin[k,:] = P[0,0]\n",
    "\n",
    "    lik = -lik\n",
    "    MSF = MS.copy()\n",
    "    PSF = PS[1,1,:]\n",
    "    PfinF = Pfin.copy()\n",
    "    \n",
    "    # Xfin = MS.reshape(1,MS.shape[0],MS.shape[1])\n",
    "    # #print(Xfin.shape)\n",
    "    # Xfin = np.squeeze(Xfin).T\n",
    "\n",
    "    return lik, MSF, PfinF"
   ]
  },
  {
   "cell_type": "code",
   "execution_count": 10,
   "metadata": {},
   "outputs": [],
   "source": [
    "def KF_predict_offline(x, y, train_len = 100, predict_range = 10):\n",
    "    #kalman filter initialization\n",
    "\n",
    "    \n",
    "    \n",
    "    dqx = deque(x[:train_len+1], maxlen=train_len+1)\n",
    "    dqy = deque(y[:train_len+1], maxlen=train_len+1)\n",
    "    \n",
    "    predictions = []\n",
    "    var = []\n",
    "    log_likelihood = []\n",
    "    compute_time = []\n",
    "\n",
    "    \n",
    "    # sliding window prediction\n",
    "    \n",
    "    for i in range(predict_range):\n",
    "        time_start=datetime.datetime.now()\n",
    "        X_train = np.array(dqx)\n",
    "        y_train = np.array(dqy)\n",
    "        \n",
    "        y_train=np.reshape(np.array(dqy),-1)\n",
    "        y_kf=y_train\n",
    "        \n",
    "        likelihood,MSF, PSF, = kalmanSmoother(A,Q,H,P,var_y,y_kf)\n",
    "\n",
    "        dqx.append(x[train_len + i])\n",
    "        dqy.append(y[train_len + i])\n",
    "        mu, V = MSF[0,-1], PSF[-1]\n",
    "        predictions.append(mu)# \n",
    "        var.append(V)\n",
    "        log_likelihood.append(likelihood)\n",
    "        \n",
    "        time_end=datetime.datetime.now()\n",
    "        # milliseconds\n",
    "        diff = (time_end - time_start).microseconds/1000\n",
    "        compute_time.append(diff)\n",
    "#         print('computing time is: {} milliseconds'.format(diff))\n",
    "        \n",
    "    var = np.array(var).reshape(-1)\n",
    "    plot_KF(x[train_len:train_len+predict_range], y[train_len:train_len+predict_range], predictions, var)\n",
    "    plt.show()  \n",
    "    print('mean computing time is: {} milliseconds'.format(np.mean(compute_time)))\n",
    "   \n",
    "    MAE = np.mean(abs(y[train_len:train_len+predict_range] - predictions)) \n",
    "    print('mean absolute error for the prediction is {}'.format(MAE))\n",
    "    return predictions, var, log_likelihood, compute_time, MAE\n",
    "    "
   ]
  },
  {
   "cell_type": "code",
   "execution_count": 11,
   "metadata": {},
   "outputs": [],
   "source": [
    "#load data\n",
    "#per = ['m1','m5','m30','h4']\n",
    "per = 'm1'\n",
    "data = pd.read_csv(per+'.csv')[:110]\n",
    "y=data['Open']\n",
    "y = y[:,None] #选哪段数据出来\n",
    "x = np.array(range(len(y)))[:,None]\n",
    "# ker = GPy.kern.RBF(1)"
   ]
  },
  {
   "cell_type": "code",
   "execution_count": 12,
   "metadata": {},
   "outputs": [],
   "source": [
    "l = 5\n",
    "var = 0.0001**2\n",
    "A_ = np.array([[0,1],[-(np.sqrt(3)/l)**2,2*(-np.sqrt(3))/l]]) #F\n",
    "A = expm(A_)\n",
    "H = np.array([[1,0]])\n",
    "P = np.array([[1,0],[0,3/l**2]])*var   #Pinf\n",
    "Q = P - A.dot(P).dot(A.T)\n",
    "var_y = 0.0001**2"
   ]
  },
  {
   "cell_type": "code",
   "execution_count": 13,
   "metadata": {
    "scrolled": true
   },
   "outputs": [
    {
     "data": {
      "image/png": "[encoded data removed]",
      "text/plain": [
       "<Figure size 432x288 with 1 Axes>"
      ]
     },
     "metadata": {
      "needs_background": "light"
     },
     "output_type": "display_data"
    },
    {
     "name": "stdout",
     "output_type": "stream",
     "text": [
      "mean computing time is: 20.8519 milliseconds\n",
      "mean absolute error for the prediction is 4.621789184583332e-05\n"
     ]
    }
   ],
   "source": [
    "# offline predict\n",
    "y=y-np.mean(y)\n",
    "train_len = 100\n",
    "predict_len = 10\n",
    "predictions, var, log_likelihood_FK , compute_time_KF , MAE_KF= KF_predict_offline(x,y,train_len = train_len, predict_range = predict_len)"
   ]
  },
  {
   "cell_type": "markdown",
   "metadata": {},
   "source": [
    "#### Here we show the comparison resulf between GP and KF"
   ]
  },
  {
   "cell_type": "code",
   "execution_count": 14,
   "metadata": {
    "scrolled": false
   },
   "outputs": [
    {
     "name": "stdout",
     "output_type": "stream",
     "text": [
      "Mean log_likelihood of kalman filter is: 803.2343639515868\n",
      "Mean log_likelihood of GP is: 787.7767149336212\n",
      "Mean computing time of kalman filter is: 20.8519\n",
      "Mean computing time of GP is: 619.9912\n",
      "Mean absolute error for prediction of kalman filter is: 4.621789184583332e-05\n",
      "Mean absolute error for prediction of GP is: 5.584468961197242e-05\n"
     ]
    }
   ],
   "source": [
    "print('Mean log_likelihood of kalman filter is: {}'.format(np.mean(log_likelihood_FK)))\n",
    "print('Mean log_likelihood of GP is: {}'.format(np.mean(log_likelihood_GP)))\n",
    "print('Mean computing time of kalman filter is: {}'.format(np.mean(compute_time_KF)))\n",
    "print('Mean computing time of GP is: {}'.format(np.mean(compute_time_GP)))\n",
    "print('Mean absolute error for prediction of kalman filter is: {}'.format(np.mean(MAE_KF)))\n",
    "print('Mean absolute error for prediction of GP is: {}'.format(np.mean(MAE_GP)))"
   ]
  },
  {
   "cell_type": "markdown",
   "metadata": {},
   "source": [
    "## Online predict\n",
    "Here we use the fxcmpy API to download the trading data and predict the trading value. Here we only implemented the GP, actually kalman filter should be the same as GP.\n",
    "\n",
    "The frequency of traindg data is 1 min, so we update the data every 1 min.\n",
    "\n",
    "Still, the sliding window step is 1, the training data length is 100, and the predict length is 10"
   ]
  },
  {
   "cell_type": "code",
   "execution_count": 15,
   "metadata": {},
   "outputs": [],
   "source": [
    "#online predict (max frequency is 1 min)\n",
    "import fxcmpy\n",
    "from fxcmpy import fxcmpy_tick_data_reader as tdr\n",
    "TOKEN = '8fca5c8d5b35bfd530dc58302b553dc03506ed90'\n",
    "con = fxcmpy.fxcmpy(access_token=TOKEN, log_level='error')"
   ]
  },
  {
   "cell_type": "code",
   "execution_count": 16,
   "metadata": {},
   "outputs": [],
   "source": [
    "def GP_predict_online(ker, train_len = 100, predict_range = 10,  num_restarts = 1 ):\n",
    "    \n",
    "    \n",
    "#     dqx = deque(x[:train_len], maxlen=train_len)\n",
    "#     dqy = deque(y[:train_len], maxlen=train_len)\n",
    "    \n",
    "    predictions = []\n",
    "    var = []\n",
    "    log_likelihood = []\n",
    "    compute_time = []\n",
    "    # sliding window prediction\n",
    "    \n",
    "    for i in range(predict_range):\n",
    "        time_start=datetime.datetime.now()\n",
    "\n",
    "        X_train = np.array(range(i,i+train_len))[:,None]\n",
    "        data = con.get_candles('EUR/USD', period='m1', number=train_len)\n",
    "        y_train = data[ 'bidopen']\n",
    "        y_train = y_train[:,None]\n",
    "        \n",
    "\n",
    "        m = GPy.models.GPRegression(X=X_train, Y=y_train, kernel=ker)\n",
    "        m.optimize_restarts(num_restarts = num_restarts, messages=False)\n",
    "\n",
    "        X_predict = np.array(range(i,i + train_len + 1))[:,None]\n",
    "        mu, V = m.predict(X_predict)\n",
    "    \n",
    "        predictions.append(mu[-1])# \n",
    "        var.append(V[-1])\n",
    "        log_likelihood.append(m.log_likelihood())\n",
    "        \n",
    "        time_end=datetime.datetime.now()\n",
    "        # milliseconds\n",
    "        diff = (time_end - time_start).microseconds/1000\n",
    "        compute_time.append(diff)\n",
    "        print('computing time is: {} milliseconds'.format(diff))\n",
    "        \n",
    "        print('sleep 60 s for the update')\n",
    "        time.sleep(60)\n",
    "    data = con.get_candles('EUR/USD', period='m1', number=train_len + predict_range)\n",
    "    \n",
    "    x = np.array(range(predict_range))[:,None]\n",
    "    y = data[ 'bidopen'].values[-predict_range:]\n",
    "    plot_fit(x, y, predictions, var)\n",
    "    plt.show()  \n",
    "    \n",
    "\n",
    "    print('mean computing time for each step is: {} milliseconds'.format(np.mean(compute_time)))\n",
    "    MAE = np.mean(abs(y - predictions)) \n",
    "    print('mean absolute error for the prediction is {}'.format(MAE))\n",
    "    return predictions, var, log_likelihood, compute_time, MAE"
   ]
  },
  {
   "cell_type": "code",
   "execution_count": 18,
   "metadata": {},
   "outputs": [
    {
     "name": "stdout",
     "output_type": "stream",
     "text": [
      "Optimization restart 1/3, f = -629.7854939451192\n",
      "Optimization restart 2/3, f = -616.5120371936378\n",
      "Optimization restart 3/3, f = -616.5120356578216\n",
      "computing time is: 224.609 milliseconds\n",
      "sleep 60 s for the update\n",
      "Optimization restart 1/3, f = -629.7761645445731\n",
      "Optimization restart 2/3, f = -616.2055320890141\n",
      "Optimization restart 3/3, f = -616.205530450697\n",
      "computing time is: 53.405 milliseconds\n",
      "sleep 60 s for the update\n",
      "Optimization restart 1/3, f = -627.5491910573968\n",
      "Optimization restart 2/3, f = -614.8485264397057\n",
      "Optimization restart 3/3, f = -614.8485252847044\n",
      "computing time is: 92.289 milliseconds\n",
      "sleep 60 s for the update\n",
      "Optimization restart 1/3, f = -627.985010995644\n",
      "Optimization restart 2/3, f = -614.9372160783566\n",
      "Optimization restart 3/3, f = -614.9372151278016\n",
      "computing time is: 137.199 milliseconds\n",
      "sleep 60 s for the update\n",
      "Optimization restart 1/3, f = -628.2033940405556\n",
      "Optimization restart 2/3, f = -615.1570101576214\n",
      "Optimization restart 3/3, f = -615.1570099258377\n",
      "computing time is: 421.948 milliseconds\n",
      "sleep 60 s for the update\n",
      "Optimization restart 1/3, f = -627.8944006077808\n",
      "Optimization restart 2/3, f = -614.9608726210203\n",
      "Optimization restart 3/3, f = -614.9608737615149\n",
      "computing time is: 897.137 milliseconds\n",
      "sleep 60 s for the update\n",
      "Optimization restart 1/3, f = -627.706460381037\n",
      "Optimization restart 2/3, f = -615.0629847130615\n",
      "Optimization restart 3/3, f = -615.062985234822\n",
      "computing time is: 170.253 milliseconds\n",
      "sleep 60 s for the update\n",
      "Optimization restart 1/3, f = -627.7733540416283\n",
      "Optimization restart 2/3, f = -615.7314346933963\n",
      "Optimization restart 3/3, f = -496.71408531103907\n",
      "computing time is: 95.693 milliseconds\n",
      "sleep 60 s for the update\n",
      "Optimization restart 1/3, f = -628.0230871160692\n",
      "Optimization restart 2/3, f = -616.3928471394554\n",
      "Optimization restart 3/3, f = -611.213486008592\n",
      "computing time is: 254.915 milliseconds\n",
      "sleep 60 s for the update\n",
      "Optimization restart 1/3, f = -626.959571483048\n",
      "Optimization restart 2/3, f = -614.8380075760355\n",
      "Optimization restart 3/3, f = -614.8380077093744\n",
      "computing time is: 132.579 milliseconds\n",
      "sleep 60 s for the update\n"
     ]
    },
    {
     "data": {
      "image/png": "[encoded data removed]",
      "text/plain": [
       "<Figure size 432x288 with 1 Axes>"
      ]
     },
     "metadata": {
      "needs_background": "light"
     },
     "output_type": "display_data"
    },
    {
     "name": "stdout",
     "output_type": "stream",
     "text": [
      "mean computing time for each step is: 248.0027 milliseconds\n",
      "mean absolute error for the prediction is 0.0006060598556510178\n"
     ]
    }
   ],
   "source": [
    "# set the length of training data and predict data\n",
    "train_len = 100\n",
    "predict_len = 10\n",
    "num_restarts = 3\n",
    "# online predict\n",
    "predictions, var, log_likelihood_GP , compute_time_GP, MAE_GP = GP_predict_online(ker,train_len = train_len, predict_range = predict_len,  num_restarts = num_restarts)"
   ]
  },
  {
   "cell_type": "code",
   "execution_count": null,
   "metadata": {},
   "outputs": [],
   "source": []
  }
 ],
 "metadata": {
  "kernelspec": {
   "display_name": "Python 3",
   "language": "python",
   "name": "python3"
  },
  "language_info": {
   "codemirror_mode": {
    "name": "ipython",
    "version": 3
   },
   "file_extension": ".py",
   "mimetype": "text/x-python",
   "name": "python",
   "nbconvert_exporter": "python",
   "pygments_lexer": "ipython3",
   "version": "3.7.4"
  }
 },
 "nbformat": 4,
 "nbformat_minor": 2
}
